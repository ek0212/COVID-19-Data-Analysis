{
 "cells": [
  {
   "cell_type": "markdown",
   "metadata": {},
   "source": [
    "## Project Description"
   ]
  },
  {
   "cell_type": "markdown",
   "metadata": {},
   "source": [
    "We used Latent Dirichlet allocation to determine topics covered in news articles, TV broadcasts, and tweets relating to COVID-19. Additionally, we analyze the sentiments (positive, negative, neutral) in the messages propagated by these outlets using sentiment analysis. "
   ]
  },
  {
   "cell_type": "code",
   "execution_count": 1,
   "metadata": {},
   "outputs": [],
   "source": [
    "import numpy as np\n",
    "import pandas as pd\n",
    "import matplotlib.pyplot as plt"
   ]
  },
  {
   "cell_type": "markdown",
   "metadata": {},
   "source": [
    "## Loading the data"
   ]
  },
  {
   "cell_type": "markdown",
   "metadata": {},
   "source": [
    "### Scientific Articles"
   ]
  },
  {
   "cell_type": "code",
   "execution_count": null,
   "metadata": {},
   "outputs": [],
   "source": []
  },
  {
   "cell_type": "markdown",
   "metadata": {},
   "source": [
    "### News Outlets"
   ]
  },
  {
   "cell_type": "markdown",
   "metadata": {},
   "source": [
    "#### Aljaz"
   ]
  },
  {
   "cell_type": "code",
   "execution_count": 2,
   "metadata": {},
   "outputs": [
    {
     "data": {
      "text/html": [
       "<div>\n",
       "<style scoped>\n",
       "    .dataframe tbody tr th:only-of-type {\n",
       "        vertical-align: middle;\n",
       "    }\n",
       "\n",
       "    .dataframe tbody tr th {\n",
       "        vertical-align: top;\n",
       "    }\n",
       "\n",
       "    .dataframe thead th {\n",
       "        text-align: right;\n",
       "    }\n",
       "</style>\n",
       "<table border=\"1\" class=\"dataframe\">\n",
       "  <thead>\n",
       "    <tr style=\"text-align: right;\">\n",
       "      <th></th>\n",
       "      <th>Snippet</th>\n",
       "    </tr>\n",
       "  </thead>\n",
       "  <tbody>\n",
       "    <tr>\n",
       "      <th>0</th>\n",
       "      <td>coronavirus here where up here in beijing they...</td>\n",
       "    </tr>\n",
       "    <tr>\n",
       "      <th>1</th>\n",
       "      <td>a novel coronavirus a corona virus is a class ...</td>\n",
       "    </tr>\n",
       "    <tr>\n",
       "      <th>2</th>\n",
       "      <td>chinese government is i mean it took some time...</td>\n",
       "    </tr>\n",
       "    <tr>\n",
       "      <th>3</th>\n",
       "      <td>now on how authorities there are handling the ...</td>\n",
       "    </tr>\n",
       "    <tr>\n",
       "      <th>4</th>\n",
       "      <td>prevent you catching the coronavirus. where th...</td>\n",
       "    </tr>\n",
       "  </tbody>\n",
       "</table>\n",
       "</div>"
      ],
      "text/plain": [
       "                                             Snippet\n",
       "0  coronavirus here where up here in beijing they...\n",
       "1  a novel coronavirus a corona virus is a class ...\n",
       "2  chinese government is i mean it took some time...\n",
       "3  now on how authorities there are handling the ...\n",
       "4  prevent you catching the coronavirus. where th..."
      ]
     },
     "execution_count": 2,
     "metadata": {},
     "output_type": "execute_result"
    }
   ],
   "source": [
    "aljaz_jan = pd.read_csv('ALJAZ.202001.csv')\n",
    "aljaz_feb = pd.read_csv('ALJAZ.202002.csv')\n",
    "aljaz_mar = pd.read_csv('ALJAZ.202003.csv')\n",
    "\n",
    "aljaz = pd.concat([aljaz_jan, aljaz_feb, aljaz_mar]).reset_index(drop=True)\n",
    "aljaz.drop(['URL','MatchDateTime','Station','Show','IAShowID','IAPreviewThumb'], axis=1, inplace=True)\n",
    "aljaz.head()"
   ]
  },
  {
   "cell_type": "markdown",
   "metadata": {},
   "source": [
    "#### BBC"
   ]
  },
  {
   "cell_type": "code",
   "execution_count": 3,
   "metadata": {},
   "outputs": [
    {
     "data": {
      "text/html": [
       "<div>\n",
       "<style scoped>\n",
       "    .dataframe tbody tr th:only-of-type {\n",
       "        vertical-align: middle;\n",
       "    }\n",
       "\n",
       "    .dataframe tbody tr th {\n",
       "        vertical-align: top;\n",
       "    }\n",
       "\n",
       "    .dataframe thead th {\n",
       "        text-align: right;\n",
       "    }\n",
       "</style>\n",
       "<table border=\"1\" class=\"dataframe\">\n",
       "  <thead>\n",
       "    <tr style=\"text-align: right;\">\n",
       "      <th></th>\n",
       "      <th>Snippet</th>\n",
       "    </tr>\n",
       "  </thead>\n",
       "  <tbody>\n",
       "    <tr>\n",
       "      <th>0</th>\n",
       "      <td>was a “- name. coronavirus, the stars virus wa...</td>\n",
       "    </tr>\n",
       "    <tr>\n",
       "      <th>1</th>\n",
       "      <td>the sars or mers virus? it is called the coron...</td>\n",
       "    </tr>\n",
       "    <tr>\n",
       "      <th>2</th>\n",
       "      <td>the authorities there try to control the sprea...</td>\n",
       "    </tr>\n",
       "    <tr>\n",
       "      <th>3</th>\n",
       "      <td>typically found in bats. the sars virus and th...</td>\n",
       "    </tr>\n",
       "    <tr>\n",
       "      <th>4</th>\n",
       "      <td>oi' to try to know more. is it as severe or th...</td>\n",
       "    </tr>\n",
       "  </tbody>\n",
       "</table>\n",
       "</div>"
      ],
      "text/plain": [
       "                                             Snippet\n",
       "0  was a “- name. coronavirus, the stars virus wa...\n",
       "1  the sars or mers virus? it is called the coron...\n",
       "2  the authorities there try to control the sprea...\n",
       "3  typically found in bats. the sars virus and th...\n",
       "4  oi' to try to know more. is it as severe or th..."
      ]
     },
     "execution_count": 3,
     "metadata": {},
     "output_type": "execute_result"
    }
   ],
   "source": [
    "bbc_jan = pd.read_csv('BBCNEWS.202001.csv')\n",
    "bbc_feb = pd.read_csv('BBCNEWS.202002.csv')\n",
    "bbc_mar = pd.read_csv('BBCNEWS.202003.csv')\n",
    "\n",
    "bbc = pd.concat([bbc_jan, bbc_feb, bbc_mar]).reset_index(drop=True)\n",
    "bbc.drop(['URL','MatchDateTime','Station','Show','IAShowID','IAPreviewThumb'], axis=1, inplace=True)\n",
    "bbc.head()"
   ]
  },
  {
   "cell_type": "markdown",
   "metadata": {},
   "source": [
    "#### RT"
   ]
  },
  {
   "cell_type": "code",
   "execution_count": 4,
   "metadata": {},
   "outputs": [
    {
     "data": {
      "text/html": [
       "<div>\n",
       "<style scoped>\n",
       "    .dataframe tbody tr th:only-of-type {\n",
       "        vertical-align: middle;\n",
       "    }\n",
       "\n",
       "    .dataframe tbody tr th {\n",
       "        vertical-align: top;\n",
       "    }\n",
       "\n",
       "    .dataframe thead th {\n",
       "        text-align: right;\n",
       "    }\n",
       "</style>\n",
       "<table border=\"1\" class=\"dataframe\">\n",
       "  <thead>\n",
       "    <tr style=\"text-align: right;\">\n",
       "      <th></th>\n",
       "      <th>Snippet</th>\n",
       "    </tr>\n",
       "  </thead>\n",
       "  <tbody>\n",
       "    <tr>\n",
       "      <th>0</th>\n",
       "      <td>begin as concerns over the coronavirus of seei...</td>\n",
       "    </tr>\n",
       "    <tr>\n",
       "      <th>1</th>\n",
       "      <td>a coronavirus outbreak in china reaches 80 acc...</td>\n",
       "    </tr>\n",
       "    <tr>\n",
       "      <th>2</th>\n",
       "      <td>of a new virus and it's spreading like wildfir...</td>\n",
       "    </tr>\n",
       "    <tr>\n",
       "      <th>3</th>\n",
       "      <td>a new virus and it's spreading like wildfire a...</td>\n",
       "    </tr>\n",
       "    <tr>\n",
       "      <th>4</th>\n",
       "      <td>a new virus and it's spreading like wildfire a...</td>\n",
       "    </tr>\n",
       "  </tbody>\n",
       "</table>\n",
       "</div>"
      ],
      "text/plain": [
       "                                             Snippet\n",
       "0  begin as concerns over the coronavirus of seei...\n",
       "1  a coronavirus outbreak in china reaches 80 acc...\n",
       "2  of a new virus and it's spreading like wildfir...\n",
       "3  a new virus and it's spreading like wildfire a...\n",
       "4  a new virus and it's spreading like wildfire a..."
      ]
     },
     "execution_count": 4,
     "metadata": {},
     "output_type": "execute_result"
    }
   ],
   "source": [
    "rt_jan = pd.read_csv('RT.202001.csv')\n",
    "rt_feb = pd.read_csv('RT.202002.csv')\n",
    "rt_mar = pd.read_csv('RT.202003.csv')\n",
    "\n",
    "rt = pd.concat([rt_jan, rt_feb, rt_mar]).reset_index(drop=True)\n",
    "rt.drop(['URL','MatchDateTime','Station','Show','IAShowID','IAPreviewThumb'], axis=1, inplace=True)\n",
    "rt.head()"
   ]
  },
  {
   "cell_type": "markdown",
   "metadata": {},
   "source": [
    "#### Fox News"
   ]
  },
  {
   "cell_type": "code",
   "execution_count": 34,
   "metadata": {},
   "outputs": [
    {
     "data": {
      "text/html": [
       "<div>\n",
       "<style scoped>\n",
       "    .dataframe tbody tr th:only-of-type {\n",
       "        vertical-align: middle;\n",
       "    }\n",
       "\n",
       "    .dataframe tbody tr th {\n",
       "        vertical-align: top;\n",
       "    }\n",
       "\n",
       "    .dataframe thead th {\n",
       "        text-align: right;\n",
       "    }\n",
       "</style>\n",
       "<table border=\"1\" class=\"dataframe\">\n",
       "  <thead>\n",
       "    <tr style=\"text-align: right;\">\n",
       "      <th></th>\n",
       "      <th>Snippet</th>\n",
       "    </tr>\n",
       "  </thead>\n",
       "  <tbody>\n",
       "    <tr>\n",
       "      <th>0</th>\n",
       "      <td>missed contraption, what is the coronavirus? w...</td>\n",
       "    </tr>\n",
       "    <tr>\n",
       "      <th>1</th>\n",
       "      <td>you for coming on this morning in response to ...</td>\n",
       "    </tr>\n",
       "    <tr>\n",
       "      <th>2</th>\n",
       "      <td>what what the onion did. new case of the coron...</td>\n",
       "    </tr>\n",
       "    <tr>\n",
       "      <th>3</th>\n",
       "      <td>deadly coronavirus is a global emergency. the ...</td>\n",
       "    </tr>\n",
       "    <tr>\n",
       "      <th>4</th>\n",
       "      <td>today the world health organization will decid...</td>\n",
       "    </tr>\n",
       "  </tbody>\n",
       "</table>\n",
       "</div>"
      ],
      "text/plain": [
       "                                             Snippet\n",
       "0  missed contraption, what is the coronavirus? w...\n",
       "1  you for coming on this morning in response to ...\n",
       "2  what what the onion did. new case of the coron...\n",
       "3  deadly coronavirus is a global emergency. the ...\n",
       "4  today the world health organization will decid..."
      ]
     },
     "execution_count": 34,
     "metadata": {},
     "output_type": "execute_result"
    }
   ],
   "source": [
    "FN_jan = pd.read_csv('FOXNEWS.202001.csv')\n",
    "FN_feb = pd.read_csv('FOXNEWS.202002.csv')\n",
    "FN_mar = pd.read_csv('FOXNEWS.202003.csv')\n",
    "\n",
    "FN = pd.concat([FN_jan, FN_feb, FN_mar]).reset_index(drop=True)\n",
    "FN.drop(['URL', 'MatchDateTime', 'Station', 'Show', 'IAShowID', 'IAPreviewThumb'], axis = 1, inplace = True) \n",
    "\n",
    "FN.head()"
   ]
  },
  {
   "cell_type": "markdown",
   "metadata": {},
   "source": [
    "#### MSNBC"
   ]
  },
  {
   "cell_type": "code",
   "execution_count": 39,
   "metadata": {},
   "outputs": [
    {
     "data": {
      "text/html": [
       "<div>\n",
       "<style scoped>\n",
       "    .dataframe tbody tr th:only-of-type {\n",
       "        vertical-align: middle;\n",
       "    }\n",
       "\n",
       "    .dataframe tbody tr th {\n",
       "        vertical-align: top;\n",
       "    }\n",
       "\n",
       "    .dataframe thead th {\n",
       "        text-align: right;\n",
       "    }\n",
       "</style>\n",
       "<table border=\"1\" class=\"dataframe\">\n",
       "  <thead>\n",
       "    <tr style=\"text-align: right;\">\n",
       "      <th></th>\n",
       "      <th>Snippet</th>\n",
       "    </tr>\n",
       "  </thead>\n",
       "  <tbody>\n",
       "    <tr>\n",
       "      <th>0</th>\n",
       "      <td>missed contraption, what is the coronavirus? w...</td>\n",
       "    </tr>\n",
       "    <tr>\n",
       "      <th>1</th>\n",
       "      <td>you for coming on this morning in response to ...</td>\n",
       "    </tr>\n",
       "    <tr>\n",
       "      <th>2</th>\n",
       "      <td>what what the onion did. new case of the coron...</td>\n",
       "    </tr>\n",
       "    <tr>\n",
       "      <th>3</th>\n",
       "      <td>deadly coronavirus is a global emergency. the ...</td>\n",
       "    </tr>\n",
       "    <tr>\n",
       "      <th>4</th>\n",
       "      <td>today the world health organization will decid...</td>\n",
       "    </tr>\n",
       "  </tbody>\n",
       "</table>\n",
       "</div>"
      ],
      "text/plain": [
       "                                             Snippet\n",
       "0  missed contraption, what is the coronavirus? w...\n",
       "1  you for coming on this morning in response to ...\n",
       "2  what what the onion did. new case of the coron...\n",
       "3  deadly coronavirus is a global emergency. the ...\n",
       "4  today the world health organization will decid..."
      ]
     },
     "execution_count": 39,
     "metadata": {},
     "output_type": "execute_result"
    }
   ],
   "source": [
    "MSNBC_jan = pd.read_csv('FOXNEWS.202001.csv')\n",
    "MSNBC_feb = pd.read_csv('FOXNEWS.202002.csv')\n",
    "MSNBC_mar = pd.read_csv('FOXNEWS.202003.csv')\n",
    "\n",
    "MSNBC = pd.concat([MSNBC_jan, MSNBC_feb, MSNBC_mar]).reset_index(drop=True)\n",
    "MSNBC.drop(['URL', 'MatchDateTime', 'Station', 'Show', 'IAShowID', 'IAPreviewThumb'], axis = 1, inplace = True) \n",
    "MSNBC.head()"
   ]
  },
  {
   "cell_type": "markdown",
   "metadata": {},
   "source": [
    "#### CNN"
   ]
  },
  {
   "cell_type": "code",
   "execution_count": 41,
   "metadata": {},
   "outputs": [
    {
     "data": {
      "text/html": [
       "<div>\n",
       "<style scoped>\n",
       "    .dataframe tbody tr th:only-of-type {\n",
       "        vertical-align: middle;\n",
       "    }\n",
       "\n",
       "    .dataframe tbody tr th {\n",
       "        vertical-align: top;\n",
       "    }\n",
       "\n",
       "    .dataframe thead th {\n",
       "        text-align: right;\n",
       "    }\n",
       "</style>\n",
       "<table border=\"1\" class=\"dataframe\">\n",
       "  <thead>\n",
       "    <tr style=\"text-align: right;\">\n",
       "      <th></th>\n",
       "      <th>Snippet</th>\n",
       "    </tr>\n",
       "  </thead>\n",
       "  <tbody>\n",
       "    <tr>\n",
       "      <th>0</th>\n",
       "      <td>missed contraption, what is the coronavirus? w...</td>\n",
       "    </tr>\n",
       "    <tr>\n",
       "      <th>1</th>\n",
       "      <td>you for coming on this morning in response to ...</td>\n",
       "    </tr>\n",
       "    <tr>\n",
       "      <th>2</th>\n",
       "      <td>what what the onion did. new case of the coron...</td>\n",
       "    </tr>\n",
       "    <tr>\n",
       "      <th>3</th>\n",
       "      <td>deadly coronavirus is a global emergency. the ...</td>\n",
       "    </tr>\n",
       "    <tr>\n",
       "      <th>4</th>\n",
       "      <td>today the world health organization will decid...</td>\n",
       "    </tr>\n",
       "  </tbody>\n",
       "</table>\n",
       "</div>"
      ],
      "text/plain": [
       "                                             Snippet\n",
       "0  missed contraption, what is the coronavirus? w...\n",
       "1  you for coming on this morning in response to ...\n",
       "2  what what the onion did. new case of the coron...\n",
       "3  deadly coronavirus is a global emergency. the ...\n",
       "4  today the world health organization will decid..."
      ]
     },
     "execution_count": 41,
     "metadata": {},
     "output_type": "execute_result"
    }
   ],
   "source": [
    "CNN_jan = pd.read_csv('FOXNEWS.202001.csv')\n",
    "CNN_feb = pd.read_csv('FOXNEWS.202002.csv')\n",
    "CNN_mar = pd.read_csv('FOXNEWS.202003.csv')\n",
    "\n",
    "CNN = pd.concat([CNN_jan, CNN_feb, CNN_mar]).reset_index(drop=True)\n",
    "CNN.drop(['URL', 'MatchDateTime', 'Station', 'Show', 'IAShowID', 'IAPreviewThumb'], axis = 1, inplace = True)\n",
    "CNN.head()"
   ]
  },
  {
   "cell_type": "markdown",
   "metadata": {},
   "source": [
    "### Tweets"
   ]
  },
  {
   "cell_type": "code",
   "execution_count": 22,
   "metadata": {},
   "outputs": [
    {
     "data": {
      "text/html": [
       "<div>\n",
       "<style scoped>\n",
       "    .dataframe tbody tr th:only-of-type {\n",
       "        vertical-align: middle;\n",
       "    }\n",
       "\n",
       "    .dataframe tbody tr th {\n",
       "        vertical-align: top;\n",
       "    }\n",
       "\n",
       "    .dataframe thead th {\n",
       "        text-align: right;\n",
       "    }\n",
       "</style>\n",
       "<table border=\"1\" class=\"dataframe\">\n",
       "  <thead>\n",
       "    <tr style=\"text-align: right;\">\n",
       "      <th></th>\n",
       "      <th>Snippet</th>\n",
       "    </tr>\n",
       "  </thead>\n",
       "  <tbody>\n",
       "    <tr>\n",
       "      <th>0</th>\n",
       "      <td>Head nurse Cai Liping of Wuchang Hospital died...</td>\n",
       "    </tr>\n",
       "    <tr>\n",
       "      <th>1</th>\n",
       "      <td>This bacteria-killing UV light robot helps a W...</td>\n",
       "    </tr>\n",
       "    <tr>\n",
       "      <th>2</th>\n",
       "      <td>For those that are into the business side of s...</td>\n",
       "    </tr>\n",
       "    <tr>\n",
       "      <th>3</th>\n",
       "      <td>How to fight against #coronavirus in #japan</td>\n",
       "    </tr>\n",
       "    <tr>\n",
       "      <th>4</th>\n",
       "      <td>Diseases like covid-19 are deadlier in non-dem...</td>\n",
       "    </tr>\n",
       "  </tbody>\n",
       "</table>\n",
       "</div>"
      ],
      "text/plain": [
       "                                             Snippet\n",
       "0  Head nurse Cai Liping of Wuchang Hospital died...\n",
       "1  This bacteria-killing UV light robot helps a W...\n",
       "2  For those that are into the business side of s...\n",
       "3        How to fight against #coronavirus in #japan\n",
       "4  Diseases like covid-19 are deadlier in non-dem..."
      ]
     },
     "execution_count": 22,
     "metadata": {},
     "output_type": "execute_result"
    }
   ],
   "source": [
    "feb_tweets = pd.read_csv('feb_data.csv')\n",
    "march_tweets = pd.read_csv('march_data.csv')\n",
    "april_tweets = pd.read_csv('april_data.csv')\n",
    "\n",
    "tweets = pd.concat([feb_tweets, march_tweets, april_tweets]).reset_index(drop=True)\n",
    "tweets.drop(['Unnamed: 0', 'date'], axis = 1, inplace = True) \n",
    "tweets.rename(columns = {'text' : 'Snippet'}, inplace = True)\n",
    "tweets.head()"
   ]
  },
  {
   "cell_type": "markdown",
   "metadata": {},
   "source": [
    "## LDA Analysis"
   ]
  },
  {
   "cell_type": "code",
   "execution_count": 6,
   "metadata": {},
   "outputs": [],
   "source": [
    "from sklearn.feature_extraction.text import CountVectorizer\n",
    "from sklearn.decomposition import LatentDirichletAllocation\n",
    "from sklearn.feature_extraction import text"
   ]
  },
  {
   "cell_type": "code",
   "execution_count": 7,
   "metadata": {},
   "outputs": [],
   "source": [
    "def print_topics(topics,vectorizer):\n",
    "    \"\"\"\n",
    "    Prints top 12 most important words for each topic in descending importance\n",
    "    \"\"\"\n",
    "    topic_dists = (topics.components_.T / topics.components_.sum(axis=1)).T\n",
    "    for comp in range(len(topic_dists)):\n",
    "        top_i = np.argsort(topic_dists[comp])[-12:][::-1]\n",
    "        print()\n",
    "        print([key for key, value in vectorizer.vocabulary_.items() if value in top_i])"
   ]
  },
  {
   "cell_type": "code",
   "execution_count": 8,
   "metadata": {},
   "outputs": [],
   "source": [
    "def lda(source, \n",
    "        month1Data, month2Data, month3Data, \n",
    "        month1, month2, month3, \n",
    "        chartTitle):\n",
    "    all_counts = all_vectorizer.fit_transform(source.Snippet)\n",
    "    all_as_topics = LatentDirichletAllocation(n_components=5, random_state=0, n_jobs=6).fit(all_counts)\n",
    "    \n",
    "    print_topics(all_as_topics, all_vectorizer)\n",
    "    \n",
    "    # Classify into topics\n",
    "    source_dists = all_as_topics.transform(all_counts)\n",
    "    source_labels = np.argmax(source_dists, axis=1)\n",
    "    source = source.assign(source_labels= source_labels)\n",
    "    \n",
    "    # Label tweets by month\n",
    "    months = pd.Series([month1] * month1Data.shape[0] + [month2] * month2Data.shape[0] + [month3] * month3Data.shape[0])\n",
    "    source = source.assign(month=months)\n",
    "\n",
    "    # Get news source counts for each topic\n",
    "    topic_counts = source.groupby(['source_labels','month']).count()\n",
    "    topic_counts.columns =['monthly_count']\n",
    "\n",
    "    unstacked_topics = topic_counts.unstack()\n",
    "    unstacked_topics = unstacked_topics.monthly_count\n",
    "    unstacked_topics = unstacked_topics.reindex(columns=[month1, month2, month3])\n",
    "\n",
    "    print(unstacked_topics)\n",
    "    \n",
    "    # Plot monthly counts for each topic\n",
    "    unstacked_topics.plot.bar(figsize=(15,10))\n",
    "    plt.title(chartTitle)\n",
    "    plt.xlabel('Topic')\n",
    "    plt.ylabel('Snippet Count')\n",
    "    plt.show()"
   ]
  },
  {
   "cell_type": "markdown",
   "metadata": {},
   "source": [
    "### News Source LDA analysis"
   ]
  },
  {
   "cell_type": "code",
   "execution_count": 28,
   "metadata": {},
   "outputs": [],
   "source": [
    "my_stops = text.ENGLISH_STOP_WORDS.union(\n",
    "    \n",
    "    ['covid', 'coronavirus', 'SARS', 'corona', 'sick',\n",
    "    'Covid', 'Corona virus', 'Corona', '19', 'hey', 'sars', 'virus', 'covid_19', \n",
    "    'just', 'day', 'today', 'new', 'got', 'pandemic', 'death', 'crisis', 'covid19', 'china', 'chinese', 'China','Chinese',\n",
    "    '2020', 'like', 'people', 'died', 'spread', 'al', 'jazeera', 'abc','bbc','cnn', 'reporter',\n",
    "    'tonight','patients','confirmed','home','breaking','news', 'outbreak', 'country', 'com', 'www', 'http', 'https', 'said',\n",
    "    '000', \"00\"]\n",
    "\n",
    ")\n",
    "all_vectorizer = CountVectorizer(min_df=10, stop_words=my_stops)"
   ]
  },
  {
   "cell_type": "markdown",
   "metadata": {},
   "source": [
    "#### Al Jazeera"
   ]
  },
  {
   "cell_type": "code",
   "execution_count": 10,
   "metadata": {},
   "outputs": [
    {
     "name": "stdout",
     "output_type": "stream",
     "text": [
      "\n",
      "['government', '1st', 'health', 'say', 'infected', 'hong', 'kong', 'person', 'president', 'year', 'medical', 'workers']\n",
      "\n",
      "['beijing', 'government', 'cases', 'quarantine', 'city', 'tested', 'japan', 'positive', 'passengers', 'cruise', 'ship', 'italy']\n",
      "\n",
      "['world', 'public', 'travel', 'restrictions', 'impact', 'contain', 'countries', 'economic', 'south', 'measures', 'spreading', 'economy']\n",
      "\n",
      "['cases', 'health', 'says', 'world', 'organization', 'killed', 'number', '00', 'reported', 'global', 'deaths', 'infections']\n",
      "\n",
      "['government', 'health', 'says', 'don', 'right', 'going', 'know', 'think', 'said', 'lot', 'really', 've']\n",
      "month          January  February  March\n",
      "source_labels                          \n",
      "0                  656       907    711\n",
      "1                  655       906    780\n",
      "2                  508       652   1158\n",
      "3                  939      1476   1042\n",
      "4                  947      1059   1004\n"
     ]
    },
    {
     "data": {
      "image/png": "[encoded data removed]",
      "text/plain": [
       "<Figure size 1080x720 with 1 Axes>"
      ]
     },
     "metadata": {
      "needs_background": "light"
     },
     "output_type": "display_data"
    }
   ],
   "source": [
    "lda(aljaz, \n",
    "    aljaz_jan, aljaz_feb, aljaz_mar, \n",
    "    'January', 'February','March', \n",
    "    'Al Jazeera Counts per Topic')"
   ]
  },
  {
   "cell_type": "markdown",
   "metadata": {},
   "source": [
    "#### BBC"
   ]
  },
  {
   "cell_type": "code",
   "execution_count": 11,
   "metadata": {},
   "outputs": [
    {
     "name": "stdout",
     "output_type": "stream",
     "text": [
      "\n",
      "['world', 'uk', 'global', 'cases', 'impact', 'let', 'says', 'fears', 'business', 'government', 'markets', 'italy']\n",
      "\n",
      "['deaths', 'authorities', 'wuhan', 'city', 'world', 'killed', 'cases', 'travel', 'infected', 'number', 'headlines', 'year']\n",
      "\n",
      "['uk', 'british', 'cases', 'quarantine', 'passengers', 'positive', 'hospital', 'board', 'cruise', 'ship', 'tested', 'princess']\n",
      "\n",
      "['know', 'spreading', 'don', 'lot', 'going', 'think', 'vaccine', 'trump', 'time', 'things', 'work', 'hands']\n",
      "\n",
      "['world', 'health', 'organization', 'uk', 'public', 'cases', 'said', 'number', 'says', 'medical', 'government', 'england']\n",
      "month          January  February  March\n",
      "source_labels                          \n",
      "0                  374       972   1259\n",
      "1                 1570       935    571\n",
      "2                  343      1094    742\n",
      "3                 1092      1039   1357\n",
      "4                  563       960   1071\n"
     ]
    },
    {
     "data": {
      "image/png": "[encoded data removed]",
      "text/plain": [
       "<Figure size 1080x720 with 1 Axes>"
      ]
     },
     "metadata": {
      "needs_background": "light"
     },
     "output_type": "display_data"
    }
   ],
   "source": [
    "lda(bbc, \n",
    "    bbc_jan, bbc_feb, bbc_mar, \n",
    "    'January', 'February','March', \n",
    "    'BBC Counts per Topic')"
   ]
  },
  {
   "cell_type": "markdown",
   "metadata": {},
   "source": [
    "#### Reuters"
   ]
  },
  {
   "cell_type": "code",
   "execution_count": 12,
   "metadata": {},
   "outputs": [
    {
     "name": "stdout",
     "output_type": "stream",
     "text": [
      "\n",
      "['right', 'economy', 'know', 'markets', 'let', 'mean', 'going', 'lot', 'really', 'think', 'market', 've']\n",
      "\n",
      "['right', 'know', 'deadly', 'situation', 'russian', 'going', 'don', 'market', 'coming', 'money', 'problem', 'information']\n",
      "\n",
      "['know', 'world', 'health', 'organization', 'deal', 'cases', 'russia', '1st', 'situation', 'russian', 'quarantine', 'measures']\n",
      "\n",
      "['percent', 'world', 'fears', 'russia', 'moscow', 'oil', 'europe', 'week', 'don', 'quarantine', 'time', 'information']\n",
      "\n",
      "['00', 'infected', 'countries', 'world', 'health', 'number', 'cases', 'russia', '1st', 'outside', 'year', 'united']\n",
      "month          January  February  March\n",
      "source_labels                          \n",
      "0                  208      1189    617\n",
      "1                  119       659    373\n",
      "2                  196       618    319\n",
      "3                  162       586    625\n",
      "4                  391       977    495\n"
     ]
    },
    {
     "data": {
      "image/png": "[encoded data removed]",
      "text/plain": [
       "<Figure size 1080x720 with 1 Axes>"
      ]
     },
     "metadata": {
      "needs_background": "light"
     },
     "output_type": "display_data"
    }
   ],
   "source": [
    "lda(rt, \n",
    "    rt_jan, rt_feb, rt_mar, \n",
    "    'January', 'February', 'March',\n",
    "    'Reuters Counts per Topic')"
   ]
  },
  {
   "cell_type": "markdown",
   "metadata": {},
   "source": [
    "#### Fox News"
   ]
  },
  {
   "cell_type": "code",
   "execution_count": 35,
   "metadata": {},
   "outputs": [
    {
     "name": "stdout",
     "output_type": "stream",
     "text": [
      "\n",
      "['case', 'states', 'health', 'cases', 'know', 'flu', 'going', 'deaths', 'right', 'united', 'state', 'number']\n",
      "\n",
      "['morning', 'global', 'world', 'cases', 'trump', 'fears', 'ed', 'markets', 'president', 'market', 'sandra', 'thank']\n",
      "\n",
      "['quarantined', 'americans', 'tested', 'president', 'california', 'passengers', 'cruise', 'quarantine', 'japan', 'ship', 'positive', 'princess']\n",
      "\n",
      "['white', 'house', 'don', 'know', 'think', 'going', 'vaccine', 'right', 'trump', 'want', 'president', 'lot']\n",
      "\n",
      "['did', 'health', 'don', 'know', 'going', 'medical', 'trump', 'risk', 'president', 'public', 'need', 'democrats']\n",
      "month          January  February  March\n",
      "source_labels                          \n",
      "0                  324       962    922\n",
      "1                  201       833    733\n",
      "2                   74       714    496\n",
      "3                  138       901   1011\n",
      "4                  197      1014    997\n"
     ]
    },
    {
     "data": {
      "image/png": "[encoded data removed]",
      "text/plain": [
       "<Figure size 1080x720 with 1 Axes>"
      ]
     },
     "metadata": {
      "needs_background": "light"
     },
     "output_type": "display_data"
    }
   ],
   "source": [
    "lda(FN, \n",
    "    FN_jan, FN_feb, FN_mar, \n",
    "    'January', 'February','March', \n",
    "    'FN Counts per Topic')"
   ]
  },
  {
   "cell_type": "markdown",
   "metadata": {},
   "source": [
    "#### MSNBC"
   ]
  },
  {
   "cell_type": "code",
   "execution_count": 43,
   "metadata": {},
   "outputs": [
    {
     "name": "stdout",
     "output_type": "stream",
     "text": [
      "\n",
      "['case', 'states', 'health', 'cases', 'know', 'flu', 'going', 'deaths', 'right', 'united', 'state', 'number']\n",
      "\n",
      "['morning', 'global', 'world', 'cases', 'trump', 'fears', 'ed', 'markets', 'president', 'market', 'sandra', 'thank']\n",
      "\n",
      "['quarantined', 'americans', 'tested', 'president', 'california', 'passengers', 'cruise', 'quarantine', 'japan', 'ship', 'positive', 'princess']\n",
      "\n",
      "['white', 'house', 'don', 'know', 'think', 'going', 'vaccine', 'right', 'trump', 'want', 'president', 'lot']\n",
      "\n",
      "['did', 'health', 'don', 'know', 'going', 'medical', 'trump', 'risk', 'president', 'public', 'need', 'democrats']\n",
      "month          January  February  March\n",
      "source_labels                          \n",
      "0                  324       962    922\n",
      "1                  201       833    733\n",
      "2                   74       714    496\n",
      "3                  138       901   1011\n",
      "4                  197      1014    997\n"
     ]
    },
    {
     "data": {
      "image/png": "[encoded data removed]",
      "text/plain": [
       "<Figure size 1080x720 with 1 Axes>"
      ]
     },
     "metadata": {
      "needs_background": "light"
     },
     "output_type": "display_data"
    }
   ],
   "source": [
    "lda(MSNBC, \n",
    "    MSNBC_jan, MSNBC_feb, MSNBC_mar, \n",
    "    'January', 'February','March', \n",
    "    'MSNBC Counts per Topic')"
   ]
  },
  {
   "cell_type": "markdown",
   "metadata": {},
   "source": [
    "#### CNN"
   ]
  },
  {
   "cell_type": "code",
   "execution_count": 44,
   "metadata": {},
   "outputs": [
    {
     "name": "stdout",
     "output_type": "stream",
     "text": [
      "\n",
      "['case', 'states', 'health', 'cases', 'know', 'flu', 'going', 'deaths', 'right', 'united', 'state', 'number']\n",
      "\n",
      "['morning', 'global', 'world', 'cases', 'trump', 'fears', 'ed', 'markets', 'president', 'market', 'sandra', 'thank']\n",
      "\n",
      "['quarantined', 'americans', 'tested', 'president', 'california', 'passengers', 'cruise', 'quarantine', 'japan', 'ship', 'positive', 'princess']\n",
      "\n",
      "['white', 'house', 'don', 'know', 'think', 'going', 'vaccine', 'right', 'trump', 'want', 'president', 'lot']\n",
      "\n",
      "['did', 'health', 'don', 'know', 'going', 'medical', 'trump', 'risk', 'president', 'public', 'need', 'democrats']\n",
      "month          January  February  March\n",
      "source_labels                          \n",
      "0                  324       962    922\n",
      "1                  201       833    733\n",
      "2                   74       714    496\n",
      "3                  138       901   1011\n",
      "4                  197      1014    997\n"
     ]
    },
    {
     "data": {
      "image/png": "[encoded data removed]",
      "text/plain": [
       "<Figure size 1080x720 with 1 Axes>"
      ]
     },
     "metadata": {
      "needs_background": "light"
     },
     "output_type": "display_data"
    }
   ],
   "source": [
    "lda(CNN, \n",
    "    CNN_jan, CNN_feb, CNN_mar, \n",
    "    'January', 'February','March', \n",
    "    'CNN Counts per Topic')"
   ]
  },
  {
   "cell_type": "markdown",
   "metadata": {},
   "source": [
    "#### Twitter"
   ]
  },
  {
   "cell_type": "code",
   "execution_count": 29,
   "metadata": {},
   "outputs": [
    {
     "name": "stdout",
     "output_type": "stream",
     "text": [
      "\n",
      "['hospital', 'wuhan', 'time', 'fight', 'amp', 'response', 've', 'really', 'medical', 'old', 'states', 'let']\n",
      "\n",
      "['says', 'japan', 'twitter', 'pic', 'cruise', 'ship', 'positive', 'trump', 'negative', 'tested', 'test', 'president']\n",
      "\n",
      "['free', 'amp', 'world', 'uk', 'global', 'bit', 'ly', 'quarantine', 'health', 'public', 'reut', 'rs']\n",
      "\n",
      "['wuhan', 'time', 'care', 'flu', 'amp', 'number', 'deaths', 'reports', 'cases', 'health', 'iran', 'reported']\n",
      "\n",
      "['need', 'amp', 'help', 'watch', 'make', 'apple', 'don', 'know', 'trump', 'workers', 'support', 'way']\n",
      "month          February  March  April\n",
      "source_labels                        \n",
      "0                   446    525    726\n",
      "1                   424    492    397\n",
      "2                   523    451    484\n",
      "3                   575    434    382\n",
      "4                   532    598    511\n"
     ]
    },
    {
     "data": {
      "image/png": "[encoded data removed]",
      "text/plain": [
       "<Figure size 1080x720 with 1 Axes>"
      ]
     },
     "metadata": {
      "needs_background": "light"
     },
     "output_type": "display_data"
    }
   ],
   "source": [
    "lda(tweets,\n",
    "    feb_tweets, march_tweets, april_tweets,\n",
    "    \"February\", \"March\", \"April\",\n",
    "    \"Tweets Count per topic\")"
   ]
  },
  {
   "cell_type": "markdown",
   "metadata": {},
   "source": [
    "### Interpretation of Results"
   ]
  },
  {
   "cell_type": "markdown",
   "metadata": {},
   "source": [
    "We chose to focus on three seemingly different news outlets: Al Jazeera (a Qatari TV channel), BBC (a British news source), and Reuters (a news source largely concerned with financial market data). The characteristics of these outlets are reflected in the topics uncovered using LDA. The stop words we used were common to all the news sources so that we could uncover any true topic differences between them. \n",
    "\n",
    "Al Jazeera broadcast a lot of information about the state of the virus worldwide. We found topics with key words such as travel, south, hong, kong, beijing, travel, global, and countries. Notably, we saw that a topic with key words 'world', 'public', 'travel', 'restrictions', 'spreading', and 'economy' had increasing occurrences from January to March. This topic was likely about the fall-out of the spread of the virus (on travel restrictions and the economy for example).\n",
    "\n",
    "BBC on the other hand expectedly had a lot more content pertaining to Britain; multiple topics contained key words such as uk, british, and england. The second topic saw a lot more occurences in January and then decreased in mention in the following months. This topic was likely about Chinese cases since it contained key words \"wuhan\" and \"travel.\" \n",
    "\n",
    "Reuters expectedly had more financial topics. Many topics share key words economy, markets, and money. Many topics also contain the world \"global,\" indicating that Reuters was likely looking at financial trends around the world. The first topic with key words \"think,\" \"economy,\" and \"markets\" possibly contains all the broadcasts reacting to the Chinese economy shutting down in January since the number of occurrences for this topic peaks in February.   "
   ]
  },
  {
   "cell_type": "markdown",
   "metadata": {},
   "source": [
    "## Sentiment Analysis"
   ]
  },
  {
   "cell_type": "code",
   "execution_count": 62,
   "metadata": {},
   "outputs": [
    {
     "name": "stderr",
     "output_type": "stream",
     "text": [
      "[nltk_data] Downloading package vader_lexicon to\n",
      "[nltk_data]     /Users/evekazarian/nltk_data...\n",
      "[nltk_data]   Package vader_lexicon is already up-to-date!\n",
      "[nltk_data] Downloading package punkt to\n",
      "[nltk_data]     /Users/evekazarian/nltk_data...\n",
      "[nltk_data]   Unzipping tokenizers/punkt.zip.\n"
     ]
    },
    {
     "data": {
      "text/plain": [
       "True"
      ]
     },
     "execution_count": 62,
     "metadata": {},
     "output_type": "execute_result"
    }
   ],
   "source": [
    "# import vader sentiment analysis module and word tokenizer\n",
    "from nltk.sentiment.vader import SentimentIntensityAnalyzer\n",
    "from nltk import sentiment\n",
    "from nltk import word_tokenize\n",
    "import nltk\n",
    "nltk.download('vader_lexicon')\n",
    "nltk.download('punkt')"
   ]
  },
  {
   "cell_type": "code",
   "execution_count": 110,
   "metadata": {},
   "outputs": [],
   "source": [
    "#initialize vader module\n",
    "sid = SentimentIntensityAnalyzer()"
   ]
  },
  {
   "cell_type": "code",
   "execution_count": 111,
   "metadata": {},
   "outputs": [],
   "source": [
    "# splits text into sentences/words\n",
    "tokenizer = nltk.data.load('tokenizers/punkt/english.pickle')"
   ]
  },
  {
   "cell_type": "code",
   "execution_count": 127,
   "metadata": {},
   "outputs": [],
   "source": [
    "# print sentiment distribution for entire snippet collection \n",
    "def sentimentDistributionCalc(tokenizedSnippets):\n",
    "    posSum = 0\n",
    "    negSum = 0\n",
    "    neuSum = 0\n",
    "    keyCount = 0\n",
    "    for snippet in tokenizedSnippets:\n",
    "        scores = sid.polarity_scores(snippet)\n",
    "        for key in sorted(scores):\n",
    "            if(key == 'pos'):\n",
    "                posSum += scores[key]\n",
    "                keyCount = keyCount + 1\n",
    "            if(key == 'neg'):\n",
    "                negSum += scores[key]\n",
    "            if(key == 'neu'):\n",
    "                neuSum += scores[key]\n",
    "\n",
    "    print(\"positive: \", posSum/keyCount, \"\\n\", \n",
    "         \"negative: \", negSum/keyCount, \"\\n\",\n",
    "         \"neutral: \", neuSum/keyCount, \"\\n\")"
   ]
  },
  {
   "cell_type": "code",
   "execution_count": 125,
   "metadata": {},
   "outputs": [],
   "source": [
    "# generating list of all broadcast snippets\n",
    "bbcSnippets = []\n",
    "for e in bbc[bbc.columns[0]]: \n",
    "    bbcSnippets.append(e)"
   ]
  },
  {
   "cell_type": "code",
   "execution_count": 126,
   "metadata": {},
   "outputs": [],
   "source": [
    "# tokenize the entire body of broadcast snippets\n",
    "bbcSnippetsTokenized = tokenizer.tokenize(''.join(bbcSnippets))"
   ]
  },
  {
   "cell_type": "code",
   "execution_count": 128,
   "metadata": {},
   "outputs": [
    {
     "name": "stdout",
     "output_type": "stream",
     "text": [
      "positive:  0.05896665363148327 \n",
      " negative:  0.0688866650076431 \n",
      " neutral:  0.8713987699527193 \n",
      "\n"
     ]
    }
   ],
   "source": [
    "sentimentDistributionCalc(bbcSnippetsTokenized)"
   ]
  },
  {
   "cell_type": "code",
   "execution_count": 129,
   "metadata": {},
   "outputs": [
    {
     "name": "stdout",
     "output_type": "stream",
     "text": [
      "positive:  0.056321025641025604 \n",
      " negative:  0.0858605128205131 \n",
      " neutral:  0.8569214102564117 \n",
      "\n"
     ]
    }
   ],
   "source": [
    "aljazSnippets = []\n",
    "for e in aljaz[aljaz.columns[0]]: \n",
    "    aljazSnippets.append(e)\n",
    "\n",
    "aljazeeraSnippetsTokenized = tokenizer.tokenize(''.join(aljazSnippets))\n",
    "\n",
    "sentimentDistributionCalc(aljazeeraSnippetsTokenized)"
   ]
  },
  {
   "cell_type": "code",
   "execution_count": 130,
   "metadata": {},
   "outputs": [
    {
     "name": "stdout",
     "output_type": "stream",
     "text": [
      "positive:  0.06961255506607932 \n",
      " negative:  0.08692797356828227 \n",
      " neutral:  0.8421451541850234 \n",
      "\n"
     ]
    }
   ],
   "source": [
    "rtSnippets = []\n",
    "for e in rt[rt.columns[0]]: \n",
    "    rtSnippets.append(e)\n",
    "\n",
    "rtSnippetsTokenized = tokenizer.tokenize(''.join(rtSnippets))\n",
    "\n",
    "sentimentDistributionCalc(rtSnippetsTokenized)"
   ]
  },
  {
   "cell_type": "code",
   "execution_count": 131,
   "metadata": {},
   "outputs": [
    {
     "name": "stdout",
     "output_type": "stream",
     "text": [
      "positive:  0.09287572090919377 \n",
      " negative:  0.09208515209770446 \n",
      " neutral:  0.812213162953749 \n",
      "\n"
     ]
    }
   ],
   "source": [
    "tweetSnippets = []\n",
    "for e in tweets.text: \n",
    "    tweetSnippets.append(e)\n",
    "\n",
    "tweetsTokenized = tokenizer.tokenize(''.join(tweetSnippets))\n",
    "\n",
    "sentimentDistributionCalc(tweetsTokenized)"
   ]
  },
  {
   "cell_type": "markdown",
   "metadata": {},
   "source": [
    "### Interpretation of Results"
   ]
  },
  {
   "cell_type": "markdown",
   "metadata": {},
   "source": [
    "The sentiment across all of the media platforms is largely neutral. However, there is an interesting difference between positive and neutral sentiment when it comes to news sources versus tweets. News sources consistently have more negative content (as indicated by a higher ratio of positively-scored content to negatively-scored content across TV broadcast snippets). Yet, tweets have a nearly one-to-one positive-to-negative sentiment ratio. This discrepancy may be because news sources having to report the dire outfall of the virus, while tweets also include messages of hope and support. "
   ]
  }
 ],
 "metadata": {
  "kernelspec": {
   "display_name": "Python 3",
   "language": "python",
   "name": "python3"
  },
  "language_info": {
   "codemirror_mode": {
    "name": "ipython",
    "version": 3
   },
   "file_extension": ".py",
   "mimetype": "text/x-python",
   "name": "python",
   "nbconvert_exporter": "python",
   "pygments_lexer": "ipython3",
   "version": "3.8.2"
  }
 },
 "nbformat": 4,
 "nbformat_minor": 2
}
