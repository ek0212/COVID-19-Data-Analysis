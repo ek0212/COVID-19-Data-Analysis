{
 "cells": [
  {
   "cell_type": "markdown",
   "metadata": {},
   "source": [
    "### Alex Bishka and Eve Kazarian"
   ]
  },
  {
   "cell_type": "markdown",
   "metadata": {},
   "source": [
    "Project Description Here"
   ]
  },
  {
   "cell_type": "code",
   "execution_count": 66,
   "metadata": {},
   "outputs": [],
   "source": [
    "import numpy as np\n",
    "import pandas as pd\n",
    "import matplotlib.pyplot as plt"
   ]
  },
  {
   "cell_type": "markdown",
   "metadata": {},
   "source": [
    "## Loading the data"
   ]
  },
  {
   "cell_type": "markdown",
   "metadata": {},
   "source": [
    "### News Articles"
   ]
  },
  {
   "cell_type": "code",
   "execution_count": null,
   "metadata": {},
   "outputs": [],
   "source": []
  },
  {
   "cell_type": "markdown",
   "metadata": {},
   "source": [
    "### TV Coverage"
   ]
  },
  {
   "cell_type": "code",
   "execution_count": 130,
   "metadata": {},
   "outputs": [
    {
     "data": {
      "text/html": [
       "<div>\n",
       "<style scoped>\n",
       "    .dataframe tbody tr th:only-of-type {\n",
       "        vertical-align: middle;\n",
       "    }\n",
       "\n",
       "    .dataframe tbody tr th {\n",
       "        vertical-align: top;\n",
       "    }\n",
       "\n",
       "    .dataframe thead th {\n",
       "        text-align: right;\n",
       "    }\n",
       "</style>\n",
       "<table border=\"1\" class=\"dataframe\">\n",
       "  <thead>\n",
       "    <tr style=\"text-align: right;\">\n",
       "      <th></th>\n",
       "      <th>Snippet</th>\n",
       "    </tr>\n",
       "  </thead>\n",
       "  <tbody>\n",
       "    <tr>\n",
       "      <th>0</th>\n",
       "      <td>i no longer believe that the risk to the gener...</td>\n",
       "    </tr>\n",
       "    <tr>\n",
       "      <th>1</th>\n",
       "      <td>an anxious public in the wake of california's ...</td>\n",
       "    </tr>\n",
       "    <tr>\n",
       "      <th>2</th>\n",
       "      <td>we can go for days feeling fine. it hits very,...</td>\n",
       "    </tr>\n",
       "    <tr>\n",
       "      <th>3</th>\n",
       "      <td>it comes amid troubling images overseas. the a...</td>\n",
       "    </tr>\n",
       "    <tr>\n",
       "      <th>4</th>\n",
       "      <td>again tonight. reporter: aboard the diamond pr...</td>\n",
       "    </tr>\n",
       "  </tbody>\n",
       "</table>\n",
       "</div>"
      ],
      "text/plain": [
       "                                             Snippet\n",
       "0  i no longer believe that the risk to the gener...\n",
       "1  an anxious public in the wake of california's ...\n",
       "2  we can go for days feeling fine. it hits very,...\n",
       "3  it comes amid troubling images overseas. the a...\n",
       "4  again tonight. reporter: aboard the diamond pr..."
      ]
     },
     "execution_count": 130,
     "metadata": {},
     "output_type": "execute_result"
    }
   ],
   "source": [
    "abc = pd.read_csv('ABC-EveningNews.csv')\n",
    "abc.drop(['URL','MatchDateTime', 'Station','Show','IAShowID','IAPreviewThumb'], axis=1, inplace=True)\n",
    "abc.head()"
   ]
  },
  {
   "cell_type": "code",
   "execution_count": 131,
   "metadata": {},
   "outputs": [
    {
     "data": {
      "text/html": [
       "<div>\n",
       "<style scoped>\n",
       "    .dataframe tbody tr th:only-of-type {\n",
       "        vertical-align: middle;\n",
       "    }\n",
       "\n",
       "    .dataframe tbody tr th {\n",
       "        vertical-align: top;\n",
       "    }\n",
       "\n",
       "    .dataframe thead th {\n",
       "        text-align: right;\n",
       "    }\n",
       "</style>\n",
       "<table border=\"1\" class=\"dataframe\">\n",
       "  <thead>\n",
       "    <tr style=\"text-align: right;\">\n",
       "      <th></th>\n",
       "      <th>Snippet</th>\n",
       "    </tr>\n",
       "  </thead>\n",
       "  <tbody>\n",
       "    <tr>\n",
       "      <th>0</th>\n",
       "      <td>coronavirus here where up here in beijing they...</td>\n",
       "    </tr>\n",
       "    <tr>\n",
       "      <th>1</th>\n",
       "      <td>a novel coronavirus a corona virus is a class ...</td>\n",
       "    </tr>\n",
       "    <tr>\n",
       "      <th>2</th>\n",
       "      <td>chinese government is i mean it took some time...</td>\n",
       "    </tr>\n",
       "    <tr>\n",
       "      <th>3</th>\n",
       "      <td>now on how authorities there are handling the ...</td>\n",
       "    </tr>\n",
       "    <tr>\n",
       "      <th>4</th>\n",
       "      <td>prevent you catching the coronavirus. where th...</td>\n",
       "    </tr>\n",
       "  </tbody>\n",
       "</table>\n",
       "</div>"
      ],
      "text/plain": [
       "                                             Snippet\n",
       "0  coronavirus here where up here in beijing they...\n",
       "1  a novel coronavirus a corona virus is a class ...\n",
       "2  chinese government is i mean it took some time...\n",
       "3  now on how authorities there are handling the ...\n",
       "4  prevent you catching the coronavirus. where th..."
      ]
     },
     "execution_count": 131,
     "metadata": {},
     "output_type": "execute_result"
    }
   ],
   "source": [
    "aljaz_jan = pd.read_csv('ALJAZ.202001.csv')\n",
    "aljaz_feb = pd.read_csv('ALJAZ.202002.csv')\n",
    "aljaz_mar = pd.read_csv('ALJAZ.202003.csv')\n",
    "\n",
    "aljaz = pd.concat([aljaz_jan, aljaz_feb, aljaz_mar]).reset_index(drop=True)\n",
    "aljaz.drop(['URL','MatchDateTime','Station','Show','IAShowID','IAPreviewThumb'], axis=1, inplace=True)\n",
    "aljaz.head()"
   ]
  },
  {
   "cell_type": "code",
   "execution_count": 69,
   "metadata": {},
   "outputs": [
    {
     "data": {
      "text/html": [
       "<div>\n",
       "<style scoped>\n",
       "    .dataframe tbody tr th:only-of-type {\n",
       "        vertical-align: middle;\n",
       "    }\n",
       "\n",
       "    .dataframe tbody tr th {\n",
       "        vertical-align: top;\n",
       "    }\n",
       "\n",
       "    .dataframe thead th {\n",
       "        text-align: right;\n",
       "    }\n",
       "</style>\n",
       "<table border=\"1\" class=\"dataframe\">\n",
       "  <thead>\n",
       "    <tr style=\"text-align: right;\">\n",
       "      <th></th>\n",
       "      <th>MatchDateTime</th>\n",
       "      <th>Snippet</th>\n",
       "    </tr>\n",
       "  </thead>\n",
       "  <tbody>\n",
       "    <tr>\n",
       "      <th>0</th>\n",
       "      <td>1/24/2020 15:08:29</td>\n",
       "      <td>was a “- name. coronavirus, the stars virus wa...</td>\n",
       "    </tr>\n",
       "    <tr>\n",
       "      <th>1</th>\n",
       "      <td>1/20/2020 1:02:51</td>\n",
       "      <td>the sars or mers virus? it is called the coron...</td>\n",
       "    </tr>\n",
       "    <tr>\n",
       "      <th>2</th>\n",
       "      <td>1/23/2020 5:02:03</td>\n",
       "      <td>the authorities there try to control the sprea...</td>\n",
       "    </tr>\n",
       "    <tr>\n",
       "      <th>3</th>\n",
       "      <td>1/26/2020 21:39:31</td>\n",
       "      <td>typically found in bats. the sars virus and th...</td>\n",
       "    </tr>\n",
       "    <tr>\n",
       "      <th>4</th>\n",
       "      <td>1/20/2020 0:10:50</td>\n",
       "      <td>oi' to try to know more. is it as severe or th...</td>\n",
       "    </tr>\n",
       "  </tbody>\n",
       "</table>\n",
       "</div>"
      ],
      "text/plain": [
       "        MatchDateTime                                            Snippet\n",
       "0  1/24/2020 15:08:29  was a “- name. coronavirus, the stars virus wa...\n",
       "1   1/20/2020 1:02:51  the sars or mers virus? it is called the coron...\n",
       "2   1/23/2020 5:02:03  the authorities there try to control the sprea...\n",
       "3  1/26/2020 21:39:31  typically found in bats. the sars virus and th...\n",
       "4   1/20/2020 0:10:50  oi' to try to know more. is it as severe or th..."
      ]
     },
     "execution_count": 69,
     "metadata": {},
     "output_type": "execute_result"
    }
   ],
   "source": [
    "bbc_jan = pd.read_csv('BBCNEWS.202001.csv')\n",
    "bbc_feb = pd.read_csv('BBCNEWS.202002.csv')\n",
    "bbc_mar = pd.read_csv('BBCNEWS.202003.csv')\n",
    "\n",
    "bbc = pd.concat([bbc_jan, bbc_feb, bbc_mar]).reset_index(drop=True)\n",
    "bbc.drop(['URL','Station','Show','IAShowID','IAPreviewThumb'], axis=1, inplace=True)\n",
    "bbc.head()"
   ]
  },
  {
   "cell_type": "code",
   "execution_count": 70,
   "metadata": {},
   "outputs": [
    {
     "data": {
      "text/html": [
       "<div>\n",
       "<style scoped>\n",
       "    .dataframe tbody tr th:only-of-type {\n",
       "        vertical-align: middle;\n",
       "    }\n",
       "\n",
       "    .dataframe tbody tr th {\n",
       "        vertical-align: top;\n",
       "    }\n",
       "\n",
       "    .dataframe thead th {\n",
       "        text-align: right;\n",
       "    }\n",
       "</style>\n",
       "<table border=\"1\" class=\"dataframe\">\n",
       "  <thead>\n",
       "    <tr style=\"text-align: right;\">\n",
       "      <th></th>\n",
       "      <th>MatchDateTime</th>\n",
       "      <th>Snippet</th>\n",
       "    </tr>\n",
       "  </thead>\n",
       "  <tbody>\n",
       "    <tr>\n",
       "      <th>0</th>\n",
       "      <td>1/28/2020 14:00:57</td>\n",
       "      <td>the coronavirus sending investors into the unk...</td>\n",
       "    </tr>\n",
       "    <tr>\n",
       "      <th>1</th>\n",
       "      <td>1/31/2020 11:05:02</td>\n",
       "      <td>coronavirus is in china -- coronavirus in chin...</td>\n",
       "    </tr>\n",
       "    <tr>\n",
       "      <th>2</th>\n",
       "      <td>1/23/2020 18:00:47</td>\n",
       "      <td>and virus fears. china's coronavirus worries g...</td>\n",
       "    </tr>\n",
       "    <tr>\n",
       "      <th>3</th>\n",
       "      <td>1/23/2020 11:32:18</td>\n",
       "      <td>new virus, or is this new territory? it is a n...</td>\n",
       "    </tr>\n",
       "    <tr>\n",
       "      <th>4</th>\n",
       "      <td>1/26/2020 12:30:44</td>\n",
       "      <td>related the coronavirus. more than 600 people ...</td>\n",
       "    </tr>\n",
       "  </tbody>\n",
       "</table>\n",
       "</div>"
      ],
      "text/plain": [
       "        MatchDateTime                                            Snippet\n",
       "0  1/28/2020 14:00:57  the coronavirus sending investors into the unk...\n",
       "1  1/31/2020 11:05:02  coronavirus is in china -- coronavirus in chin...\n",
       "2  1/23/2020 18:00:47  and virus fears. china's coronavirus worries g...\n",
       "3  1/23/2020 11:32:18  new virus, or is this new territory? it is a n...\n",
       "4  1/26/2020 12:30:44  related the coronavirus. more than 600 people ..."
      ]
     },
     "execution_count": 70,
     "metadata": {},
     "output_type": "execute_result"
    }
   ],
   "source": [
    "bloom_jan = pd.read_csv('BLOOMBERG.202001.csv')\n",
    "bloom_feb = pd.read_csv('BLOOMBERG.202002.csv')\n",
    "bloom_mar = pd.read_csv('BLOOMBERG.202003.csv')\n",
    "\n",
    "bloom = pd.concat([bloom_jan, bloom_feb, bloom_mar]).reset_index(drop=True)\n",
    "bloom.drop(['URL','Station','Show','IAShowID','IAPreviewThumb'], axis=1, inplace=True)\n",
    "bloom.head()"
   ]
  },
  {
   "cell_type": "code",
   "execution_count": 71,
   "metadata": {},
   "outputs": [
    {
     "data": {
      "text/html": [
       "<div>\n",
       "<style scoped>\n",
       "    .dataframe tbody tr th:only-of-type {\n",
       "        vertical-align: middle;\n",
       "    }\n",
       "\n",
       "    .dataframe tbody tr th {\n",
       "        vertical-align: top;\n",
       "    }\n",
       "\n",
       "    .dataframe thead th {\n",
       "        text-align: right;\n",
       "    }\n",
       "</style>\n",
       "<table border=\"1\" class=\"dataframe\">\n",
       "  <thead>\n",
       "    <tr style=\"text-align: right;\">\n",
       "      <th></th>\n",
       "      <th>MatchDateTime</th>\n",
       "      <th>Snippet</th>\n",
       "    </tr>\n",
       "  </thead>\n",
       "  <tbody>\n",
       "    <tr>\n",
       "      <th>0</th>\n",
       "      <td>3/10/2020 1:38:11</td>\n",
       "      <td>been exposed to the virus himself. at least fo...</td>\n",
       "    </tr>\n",
       "    <tr>\n",
       "      <th>1</th>\n",
       "      <td>3/6/2020 3:00:52</td>\n",
       "      <td>had the virus. we have seen reports the office...</td>\n",
       "    </tr>\n",
       "    <tr>\n",
       "      <th>2</th>\n",
       "      <td>3/10/2020 1:35:48</td>\n",
       "      <td>class that is at higher risk. reporter: the vi...</td>\n",
       "    </tr>\n",
       "    <tr>\n",
       "      <th>3</th>\n",
       "      <td>3/10/2020 10:16:46</td>\n",
       "      <td>class that is at higher risk. reporter: the vi...</td>\n",
       "    </tr>\n",
       "    <tr>\n",
       "      <th>4</th>\n",
       "      <td>2/29/2020 2:38:30</td>\n",
       "      <td>identifying novel coronavirus, or covid-19. so...</td>\n",
       "    </tr>\n",
       "  </tbody>\n",
       "</table>\n",
       "</div>"
      ],
      "text/plain": [
       "        MatchDateTime                                            Snippet\n",
       "0   3/10/2020 1:38:11  been exposed to the virus himself. at least fo...\n",
       "1    3/6/2020 3:00:52  had the virus. we have seen reports the office...\n",
       "2   3/10/2020 1:35:48  class that is at higher risk. reporter: the vi...\n",
       "3  3/10/2020 10:16:46  class that is at higher risk. reporter: the vi...\n",
       "4   2/29/2020 2:38:30  identifying novel coronavirus, or covid-19. so..."
      ]
     },
     "execution_count": 71,
     "metadata": {},
     "output_type": "execute_result"
    }
   ],
   "source": [
    "cbs = pd.read_csv('CBS-EveningNews.csv')\n",
    "cbs.drop(['URL','Station','Show','IAShowID','IAPreviewThumb'], axis=1, inplace=True)\n",
    "cbs.head()"
   ]
  },
  {
   "cell_type": "code",
   "execution_count": 72,
   "metadata": {},
   "outputs": [
    {
     "data": {
      "text/html": [
       "<div>\n",
       "<style scoped>\n",
       "    .dataframe tbody tr th:only-of-type {\n",
       "        vertical-align: middle;\n",
       "    }\n",
       "\n",
       "    .dataframe tbody tr th {\n",
       "        vertical-align: top;\n",
       "    }\n",
       "\n",
       "    .dataframe thead th {\n",
       "        text-align: right;\n",
       "    }\n",
       "</style>\n",
       "<table border=\"1\" class=\"dataframe\">\n",
       "  <thead>\n",
       "    <tr style=\"text-align: right;\">\n",
       "      <th></th>\n",
       "      <th>MatchDateTime</th>\n",
       "      <th>Snippet</th>\n",
       "    </tr>\n",
       "  </thead>\n",
       "  <tbody>\n",
       "    <tr>\n",
       "      <th>0</th>\n",
       "      <td>1/25/2020 10:35:09</td>\n",
       "      <td>cnn's dr. sanjay gupta has more. one of the qu...</td>\n",
       "    </tr>\n",
       "    <tr>\n",
       "      <th>1</th>\n",
       "      <td>1/29/2020 11:39:36</td>\n",
       "      <td>the number of confirmed cases of the wuhan cor...</td>\n",
       "    </tr>\n",
       "    <tr>\n",
       "      <th>2</th>\n",
       "      <td>1/27/2020 11:41:16</td>\n",
       "      <td>about with this outbreak. the wuhan coronaviru...</td>\n",
       "    </tr>\n",
       "    <tr>\n",
       "      <th>3</th>\n",
       "      <td>1/30/2020 17:53:27</td>\n",
       "      <td>states government is rofeportin its first conf...</td>\n",
       "    </tr>\n",
       "    <tr>\n",
       "      <th>4</th>\n",
       "      <td>1/28/2020 9:06:59</td>\n",
       "      <td>warning because of the coronavirus. cautioning...</td>\n",
       "    </tr>\n",
       "  </tbody>\n",
       "</table>\n",
       "</div>"
      ],
      "text/plain": [
       "        MatchDateTime                                            Snippet\n",
       "0  1/25/2020 10:35:09  cnn's dr. sanjay gupta has more. one of the qu...\n",
       "1  1/29/2020 11:39:36  the number of confirmed cases of the wuhan cor...\n",
       "2  1/27/2020 11:41:16  about with this outbreak. the wuhan coronaviru...\n",
       "3  1/30/2020 17:53:27  states government is rofeportin its first conf...\n",
       "4   1/28/2020 9:06:59  warning because of the coronavirus. cautioning..."
      ]
     },
     "execution_count": 72,
     "metadata": {},
     "output_type": "execute_result"
    }
   ],
   "source": [
    "cnn_jan = pd.read_csv('CNN.202001.csv')\n",
    "cnn_feb = pd.read_csv('CNN.202002.csv')\n",
    "cnn_mar = pd.read_csv('CNN.202003.csv')\n",
    "\n",
    "cnn = pd.concat([cnn_jan, cnn_feb, cnn_mar]).reset_index(drop=True)\n",
    "cnn.drop(['URL','Station','Show','IAShowID','IAPreviewThumb'], axis=1, inplace=True)\n",
    "cnn.head()"
   ]
  },
  {
   "cell_type": "code",
   "execution_count": 73,
   "metadata": {},
   "outputs": [
    {
     "data": {
      "text/html": [
       "<div>\n",
       "<style scoped>\n",
       "    .dataframe tbody tr th:only-of-type {\n",
       "        vertical-align: middle;\n",
       "    }\n",
       "\n",
       "    .dataframe tbody tr th {\n",
       "        vertical-align: top;\n",
       "    }\n",
       "\n",
       "    .dataframe thead th {\n",
       "        text-align: right;\n",
       "    }\n",
       "</style>\n",
       "<table border=\"1\" class=\"dataframe\">\n",
       "  <thead>\n",
       "    <tr style=\"text-align: right;\">\n",
       "      <th></th>\n",
       "      <th>MatchDateTime</th>\n",
       "      <th>Snippet</th>\n",
       "    </tr>\n",
       "  </thead>\n",
       "  <tbody>\n",
       "    <tr>\n",
       "      <th>0</th>\n",
       "      <td>1/31/2020 14:56:20</td>\n",
       "      <td>the world health organization declaring the co...</td>\n",
       "    </tr>\n",
       "    <tr>\n",
       "      <th>1</th>\n",
       "      <td>1/26/2020 12:02:05</td>\n",
       "      <td>the coronavirus across china. hundreds of medi...</td>\n",
       "    </tr>\n",
       "    <tr>\n",
       "      <th>2</th>\n",
       "      <td>1/31/2020 14:56:05</td>\n",
       "      <td>surveillance state. host: i want to touch on a...</td>\n",
       "    </tr>\n",
       "    <tr>\n",
       "      <th>3</th>\n",
       "      <td>1/23/2020 22:52:41</td>\n",
       "      <td>society, and sometimes the virus is dormant, b...</td>\n",
       "    </tr>\n",
       "    <tr>\n",
       "      <th>4</th>\n",
       "      <td>1/24/2020 14:14:00</td>\n",
       "      <td>after traveling to the affected areas. the wor...</td>\n",
       "    </tr>\n",
       "  </tbody>\n",
       "</table>\n",
       "</div>"
      ],
      "text/plain": [
       "        MatchDateTime                                            Snippet\n",
       "0  1/31/2020 14:56:20  the world health organization declaring the co...\n",
       "1  1/26/2020 12:02:05  the coronavirus across china. hundreds of medi...\n",
       "2  1/31/2020 14:56:05  surveillance state. host: i want to touch on a...\n",
       "3  1/23/2020 22:52:41  society, and sometimes the virus is dormant, b...\n",
       "4  1/24/2020 14:14:00  after traveling to the affected areas. the wor..."
      ]
     },
     "execution_count": 73,
     "metadata": {},
     "output_type": "execute_result"
    }
   ],
   "source": [
    "cspan_jan = pd.read_csv('CSPAN.202001.csv')\n",
    "cspan_feb = pd.read_csv('CSPAN.202002.csv')\n",
    "cspan_mar = pd.read_csv('CSPAN.202003.csv')\n",
    "\n",
    "cspan = pd.concat([cspan_jan, cspan_feb, cspan_mar]).reset_index(drop=True)\n",
    "cspan.drop(['URL','Station','Show','IAShowID','IAPreviewThumb'], axis=1, inplace=True)\n",
    "cspan.head()"
   ]
  },
  {
   "cell_type": "code",
   "execution_count": 74,
   "metadata": {},
   "outputs": [
    {
     "data": {
      "text/html": [
       "<div>\n",
       "<style scoped>\n",
       "    .dataframe tbody tr th:only-of-type {\n",
       "        vertical-align: middle;\n",
       "    }\n",
       "\n",
       "    .dataframe tbody tr th {\n",
       "        vertical-align: top;\n",
       "    }\n",
       "\n",
       "    .dataframe thead th {\n",
       "        text-align: right;\n",
       "    }\n",
       "</style>\n",
       "<table border=\"1\" class=\"dataframe\">\n",
       "  <thead>\n",
       "    <tr style=\"text-align: right;\">\n",
       "      <th></th>\n",
       "      <th>MatchDateTime</th>\n",
       "      <th>Snippet</th>\n",
       "    </tr>\n",
       "  </thead>\n",
       "  <tbody>\n",
       "    <tr>\n",
       "      <th>0</th>\n",
       "      <td>1/31/2020 18:46:06</td>\n",
       "      <td>coronavirus scott this virus is obviously very...</td>\n",
       "    </tr>\n",
       "    <tr>\n",
       "      <th>1</th>\n",
       "      <td>1/20/2020 12:00:49</td>\n",
       "      <td>the coronavirus the outrage comes just as mill...</td>\n",
       "    </tr>\n",
       "    <tr>\n",
       "      <th>2</th>\n",
       "      <td>1/31/2020 2:00:46</td>\n",
       "      <td>the coronavirus outbreak a global health emerg...</td>\n",
       "    </tr>\n",
       "    <tr>\n",
       "      <th>3</th>\n",
       "      <td>1/21/2020 6:03:57</td>\n",
       "      <td>dangerous. we don't know exactly how dangerous...</td>\n",
       "    </tr>\n",
       "    <tr>\n",
       "      <th>4</th>\n",
       "      <td>1/25/2020 2:00:47</td>\n",
       "      <td>coronavirus from china the 1st to be reported ...</td>\n",
       "    </tr>\n",
       "  </tbody>\n",
       "</table>\n",
       "</div>"
      ],
      "text/plain": [
       "        MatchDateTime                                            Snippet\n",
       "0  1/31/2020 18:46:06  coronavirus scott this virus is obviously very...\n",
       "1  1/20/2020 12:00:49  the coronavirus the outrage comes just as mill...\n",
       "2   1/31/2020 2:00:46  the coronavirus outbreak a global health emerg...\n",
       "3   1/21/2020 6:03:57  dangerous. we don't know exactly how dangerous...\n",
       "4   1/25/2020 2:00:47  coronavirus from china the 1st to be reported ..."
      ]
     },
     "execution_count": 74,
     "metadata": {},
     "output_type": "execute_result"
    }
   ],
   "source": [
    "dw_jan = pd.read_csv('DW.202001.csv')\n",
    "dw_feb = pd.read_csv('DW.202002.csv')\n",
    "dw_mar = pd.read_csv('DW.202003.csv')\n",
    "\n",
    "dw = pd.concat([dw_jan, dw_feb, dw_mar]).reset_index(drop=True)\n",
    "dw.drop(['URL','Station','Show','IAShowID','IAPreviewThumb'], axis=1, inplace=True)\n",
    "dw.head()"
   ]
  },
  {
   "cell_type": "code",
   "execution_count": 75,
   "metadata": {},
   "outputs": [
    {
     "data": {
      "text/html": [
       "<div>\n",
       "<style scoped>\n",
       "    .dataframe tbody tr th:only-of-type {\n",
       "        vertical-align: middle;\n",
       "    }\n",
       "\n",
       "    .dataframe tbody tr th {\n",
       "        vertical-align: top;\n",
       "    }\n",
       "\n",
       "    .dataframe thead th {\n",
       "        text-align: right;\n",
       "    }\n",
       "</style>\n",
       "<table border=\"1\" class=\"dataframe\">\n",
       "  <thead>\n",
       "    <tr style=\"text-align: right;\">\n",
       "      <th></th>\n",
       "      <th>MatchDateTime</th>\n",
       "      <th>Snippet</th>\n",
       "    </tr>\n",
       "  </thead>\n",
       "  <tbody>\n",
       "    <tr>\n",
       "      <th>0</th>\n",
       "      <td>1/27/2020 17:47:03</td>\n",
       "      <td>we own gilead. they had a virus, they had a dr...</td>\n",
       "    </tr>\n",
       "    <tr>\n",
       "      <th>1</th>\n",
       "      <td>1/27/2020 11:17:23</td>\n",
       "      <td>was a type of coronavirus. the new virus calle...</td>\n",
       "    </tr>\n",
       "    <tr>\n",
       "      <th>2</th>\n",
       "      <td>1/27/2020 19:01:18</td>\n",
       "      <td>all this and more on 'making money.' charles: ...</td>\n",
       "    </tr>\n",
       "    <tr>\n",
       "      <th>3</th>\n",
       "      <td>1/27/2020 16:57:00</td>\n",
       "      <td>transmission of the coronavirus through import...</td>\n",
       "    </tr>\n",
       "    <tr>\n",
       "      <th>4</th>\n",
       "      <td>1/27/2020 22:16:31</td>\n",
       "      <td>this coronavirus is in a family of virus calle...</td>\n",
       "    </tr>\n",
       "  </tbody>\n",
       "</table>\n",
       "</div>"
      ],
      "text/plain": [
       "        MatchDateTime                                            Snippet\n",
       "0  1/27/2020 17:47:03  we own gilead. they had a virus, they had a dr...\n",
       "1  1/27/2020 11:17:23  was a type of coronavirus. the new virus calle...\n",
       "2  1/27/2020 19:01:18  all this and more on 'making money.' charles: ...\n",
       "3  1/27/2020 16:57:00  transmission of the coronavirus through import...\n",
       "4  1/27/2020 22:16:31  this coronavirus is in a family of virus calle..."
      ]
     },
     "execution_count": 75,
     "metadata": {},
     "output_type": "execute_result"
    }
   ],
   "source": [
    "fbc_jan = pd.read_csv('FBC.202001.csv')\n",
    "fbc_feb = pd.read_csv('FBC.202002.csv')\n",
    "fbc_mar = pd.read_csv('FBC.202003.csv')\n",
    "\n",
    "fbc = pd.concat([fbc_jan, fbc_feb, fbc_mar]).reset_index(drop=True)\n",
    "fbc.drop(['URL','Station','Show','IAShowID','IAPreviewThumb'], axis=1, inplace=True)\n",
    "fbc.head()"
   ]
  },
  {
   "cell_type": "code",
   "execution_count": 76,
   "metadata": {},
   "outputs": [
    {
     "data": {
      "text/html": [
       "<div>\n",
       "<style scoped>\n",
       "    .dataframe tbody tr th:only-of-type {\n",
       "        vertical-align: middle;\n",
       "    }\n",
       "\n",
       "    .dataframe tbody tr th {\n",
       "        vertical-align: top;\n",
       "    }\n",
       "\n",
       "    .dataframe thead th {\n",
       "        text-align: right;\n",
       "    }\n",
       "</style>\n",
       "<table border=\"1\" class=\"dataframe\">\n",
       "  <thead>\n",
       "    <tr style=\"text-align: right;\">\n",
       "      <th></th>\n",
       "      <th>MatchDateTime</th>\n",
       "      <th>Snippet</th>\n",
       "    </tr>\n",
       "  </thead>\n",
       "  <tbody>\n",
       "    <tr>\n",
       "      <th>0</th>\n",
       "      <td>1/30/2020 1:36:09</td>\n",
       "      <td>missed contraption, what is the coronavirus? w...</td>\n",
       "    </tr>\n",
       "    <tr>\n",
       "      <th>1</th>\n",
       "      <td>1/30/2020 10:52:10</td>\n",
       "      <td>you for coming on this morning in response to ...</td>\n",
       "    </tr>\n",
       "    <tr>\n",
       "      <th>2</th>\n",
       "      <td>1/26/2020 11:28:32</td>\n",
       "      <td>what what the onion did. new case of the coron...</td>\n",
       "    </tr>\n",
       "    <tr>\n",
       "      <th>3</th>\n",
       "      <td>1/30/2020 10:06:11</td>\n",
       "      <td>deadly coronavirus is a global emergency. the ...</td>\n",
       "    </tr>\n",
       "    <tr>\n",
       "      <th>4</th>\n",
       "      <td>1/30/2020 9:06:07</td>\n",
       "      <td>today the world health organization will decid...</td>\n",
       "    </tr>\n",
       "  </tbody>\n",
       "</table>\n",
       "</div>"
      ],
      "text/plain": [
       "        MatchDateTime                                            Snippet\n",
       "0   1/30/2020 1:36:09  missed contraption, what is the coronavirus? w...\n",
       "1  1/30/2020 10:52:10  you for coming on this morning in response to ...\n",
       "2  1/26/2020 11:28:32  what what the onion did. new case of the coron...\n",
       "3  1/30/2020 10:06:11  deadly coronavirus is a global emergency. the ...\n",
       "4   1/30/2020 9:06:07  today the world health organization will decid..."
      ]
     },
     "execution_count": 76,
     "metadata": {},
     "output_type": "execute_result"
    }
   ],
   "source": [
    "fox_jan = pd.read_csv('FOXNEWS.202001.csv')\n",
    "fox_feb = pd.read_csv('FOXNEWS.202002.csv')\n",
    "fox_mar = pd.read_csv('FOXNEWS.202003.csv')\n",
    "\n",
    "fox = pd.concat([fox_jan, fox_feb, fox_mar]).reset_index(drop=True)\n",
    "fox.drop(['URL','Station','Show','IAShowID','IAPreviewThumb'], axis=1, inplace=True)\n",
    "\n",
    "fox.head()"
   ]
  },
  {
   "cell_type": "code",
   "execution_count": 77,
   "metadata": {},
   "outputs": [
    {
     "data": {
      "text/html": [
       "<div>\n",
       "<style scoped>\n",
       "    .dataframe tbody tr th:only-of-type {\n",
       "        vertical-align: middle;\n",
       "    }\n",
       "\n",
       "    .dataframe tbody tr th {\n",
       "        vertical-align: top;\n",
       "    }\n",
       "\n",
       "    .dataframe thead th {\n",
       "        text-align: right;\n",
       "    }\n",
       "</style>\n",
       "<table border=\"1\" class=\"dataframe\">\n",
       "  <thead>\n",
       "    <tr style=\"text-align: right;\">\n",
       "      <th></th>\n",
       "      <th>MatchDateTime</th>\n",
       "      <th>Snippet</th>\n",
       "    </tr>\n",
       "  </thead>\n",
       "  <tbody>\n",
       "    <tr>\n",
       "      <th>0</th>\n",
       "      <td>1/30/2020 10:52:34</td>\n",
       "      <td>the outbreak. so far 19 locations outside of c...</td>\n",
       "    </tr>\n",
       "    <tr>\n",
       "      <th>1</th>\n",
       "      <td>1/29/2020 10:23:27</td>\n",
       "      <td>officials to test the virus. so far one hospit...</td>\n",
       "    </tr>\n",
       "    <tr>\n",
       "      <th>2</th>\n",
       "      <td>1/28/2020 22:53:54</td>\n",
       "      <td>the election itself, zika virus, the orlando s...</td>\n",
       "    </tr>\n",
       "    <tr>\n",
       "      <th>3</th>\n",
       "      <td>1/26/2020 12:32:59</td>\n",
       "      <td>coronavirus. there is now one case each in was...</td>\n",
       "    </tr>\n",
       "    <tr>\n",
       "      <th>4</th>\n",
       "      <td>1/29/2020 10:22:55</td>\n",
       "      <td>you've gotta try the dish soap. the deadly cor...</td>\n",
       "    </tr>\n",
       "  </tbody>\n",
       "</table>\n",
       "</div>"
      ],
      "text/plain": [
       "        MatchDateTime                                            Snippet\n",
       "0  1/30/2020 10:52:34  the outbreak. so far 19 locations outside of c...\n",
       "1  1/29/2020 10:23:27  officials to test the virus. so far one hospit...\n",
       "2  1/28/2020 22:53:54  the election itself, zika virus, the orlando s...\n",
       "3  1/26/2020 12:32:59  coronavirus. there is now one case each in was...\n",
       "4  1/29/2020 10:22:55  you've gotta try the dish soap. the deadly cor..."
      ]
     },
     "execution_count": 77,
     "metadata": {},
     "output_type": "execute_result"
    }
   ],
   "source": [
    "msnbc_jan = pd.read_csv('MSNBC.202001.csv')\n",
    "msnbc_feb = pd.read_csv('MSNBC.202002.csv')\n",
    "msnbc_mar = pd.read_csv('MSNBC.202003.csv')\n",
    "\n",
    "msnbc = pd.concat([msnbc_jan, msnbc_feb, msnbc_mar]).reset_index(drop=True)\n",
    "msnbc.drop(['URL','Station','Show','IAShowID','IAPreviewThumb'], axis=1, inplace=True)\n",
    "\n",
    "msnbc.head()"
   ]
  },
  {
   "cell_type": "code",
   "execution_count": 78,
   "metadata": {},
   "outputs": [
    {
     "data": {
      "text/html": [
       "<div>\n",
       "<style scoped>\n",
       "    .dataframe tbody tr th:only-of-type {\n",
       "        vertical-align: middle;\n",
       "    }\n",
       "\n",
       "    .dataframe tbody tr th {\n",
       "        vertical-align: top;\n",
       "    }\n",
       "\n",
       "    .dataframe thead th {\n",
       "        text-align: right;\n",
       "    }\n",
       "</style>\n",
       "<table border=\"1\" class=\"dataframe\">\n",
       "  <thead>\n",
       "    <tr style=\"text-align: right;\">\n",
       "      <th></th>\n",
       "      <th>MatchDateTime</th>\n",
       "      <th>Snippet</th>\n",
       "    </tr>\n",
       "  </thead>\n",
       "  <tbody>\n",
       "    <tr>\n",
       "      <th>0</th>\n",
       "      <td>3/3/2020 10:11:26</td>\n",
       "      <td>reporter: at washington's national institutes ...</td>\n",
       "    </tr>\n",
       "    <tr>\n",
       "      <th>1</th>\n",
       "      <td>3/3/2020 1:35:38</td>\n",
       "      <td>what are we dealing with, with this coronaviru...</td>\n",
       "    </tr>\n",
       "    <tr>\n",
       "      <th>2</th>\n",
       "      <td>3/7/2020 10:20:29</td>\n",
       "      <td>believes facts may be our best defense against...</td>\n",
       "    </tr>\n",
       "    <tr>\n",
       "      <th>3</th>\n",
       "      <td>3/7/2020 1:44:34</td>\n",
       "      <td>believes facts may be our best defense against...</td>\n",
       "    </tr>\n",
       "    <tr>\n",
       "      <th>4</th>\n",
       "      <td>2/27/2020 10:14:41</td>\n",
       "      <td>richard engel spoke with her exclusively today...</td>\n",
       "    </tr>\n",
       "  </tbody>\n",
       "</table>\n",
       "</div>"
      ],
      "text/plain": [
       "        MatchDateTime                                            Snippet\n",
       "0   3/3/2020 10:11:26  reporter: at washington's national institutes ...\n",
       "1    3/3/2020 1:35:38  what are we dealing with, with this coronaviru...\n",
       "2   3/7/2020 10:20:29  believes facts may be our best defense against...\n",
       "3    3/7/2020 1:44:34  believes facts may be our best defense against...\n",
       "4  2/27/2020 10:14:41  richard engel spoke with her exclusively today..."
      ]
     },
     "execution_count": 78,
     "metadata": {},
     "output_type": "execute_result"
    }
   ],
   "source": [
    "nbc = pd.read_csv('NBC-EveningNews.csv')\n",
    "nbc.drop(['URL','Station','Show','IAShowID','IAPreviewThumb'], axis=1, inplace=True)\n",
    "nbc.head()"
   ]
  },
  {
   "cell_type": "code",
   "execution_count": 79,
   "metadata": {},
   "outputs": [
    {
     "data": {
      "text/html": [
       "<div>\n",
       "<style scoped>\n",
       "    .dataframe tbody tr th:only-of-type {\n",
       "        vertical-align: middle;\n",
       "    }\n",
       "\n",
       "    .dataframe tbody tr th {\n",
       "        vertical-align: top;\n",
       "    }\n",
       "\n",
       "    .dataframe thead th {\n",
       "        text-align: right;\n",
       "    }\n",
       "</style>\n",
       "<table border=\"1\" class=\"dataframe\">\n",
       "  <thead>\n",
       "    <tr style=\"text-align: right;\">\n",
       "      <th></th>\n",
       "      <th>MatchDateTime</th>\n",
       "      <th>Snippet</th>\n",
       "    </tr>\n",
       "  </thead>\n",
       "  <tbody>\n",
       "    <tr>\n",
       "      <th>0</th>\n",
       "      <td>1/28/2020 18:29:46</td>\n",
       "      <td>begin as concerns over the coronavirus of seei...</td>\n",
       "    </tr>\n",
       "    <tr>\n",
       "      <th>1</th>\n",
       "      <td>1/27/2020 3:00:57</td>\n",
       "      <td>a coronavirus outbreak in china reaches 80 acc...</td>\n",
       "    </tr>\n",
       "    <tr>\n",
       "      <th>2</th>\n",
       "      <td>1/26/2020 6:13:33</td>\n",
       "      <td>of a new virus and it's spreading like wildfir...</td>\n",
       "    </tr>\n",
       "    <tr>\n",
       "      <th>3</th>\n",
       "      <td>1/26/2020 11:15:42</td>\n",
       "      <td>a new virus and it's spreading like wildfire a...</td>\n",
       "    </tr>\n",
       "    <tr>\n",
       "      <th>4</th>\n",
       "      <td>1/26/2020 9:15:02</td>\n",
       "      <td>a new virus and it's spreading like wildfire a...</td>\n",
       "    </tr>\n",
       "  </tbody>\n",
       "</table>\n",
       "</div>"
      ],
      "text/plain": [
       "        MatchDateTime                                            Snippet\n",
       "0  1/28/2020 18:29:46  begin as concerns over the coronavirus of seei...\n",
       "1   1/27/2020 3:00:57  a coronavirus outbreak in china reaches 80 acc...\n",
       "2   1/26/2020 6:13:33  of a new virus and it's spreading like wildfir...\n",
       "3  1/26/2020 11:15:42  a new virus and it's spreading like wildfire a...\n",
       "4   1/26/2020 9:15:02  a new virus and it's spreading like wildfire a..."
      ]
     },
     "execution_count": 79,
     "metadata": {},
     "output_type": "execute_result"
    }
   ],
   "source": [
    "rt_jan = pd.read_csv('RT.202001.csv')\n",
    "rt_feb = pd.read_csv('RT.202002.csv')\n",
    "rt_mar = pd.read_csv('RT.202003.csv')\n",
    "\n",
    "rt = pd.concat([rt_jan, rt_feb, rt_mar]).reset_index(drop=True)\n",
    "rt.drop(['URL','Station','Show','IAShowID','IAPreviewThumb'], axis=1, inplace=True)\n",
    "rt.head()"
   ]
  },
  {
   "cell_type": "markdown",
   "metadata": {},
   "source": [
    "### Tweets"
   ]
  },
  {
   "cell_type": "code",
   "execution_count": 47,
   "metadata": {},
   "outputs": [
    {
     "data": {
      "text/html": [
       "<div>\n",
       "<style scoped>\n",
       "    .dataframe tbody tr th:only-of-type {\n",
       "        vertical-align: middle;\n",
       "    }\n",
       "\n",
       "    .dataframe tbody tr th {\n",
       "        vertical-align: top;\n",
       "    }\n",
       "\n",
       "    .dataframe thead th {\n",
       "        text-align: right;\n",
       "    }\n",
       "</style>\n",
       "<table border=\"1\" class=\"dataframe\">\n",
       "  <thead>\n",
       "    <tr style=\"text-align: right;\">\n",
       "      <th></th>\n",
       "      <th>Unnamed: 0</th>\n",
       "      <th>date</th>\n",
       "      <th>text</th>\n",
       "    </tr>\n",
       "  </thead>\n",
       "  <tbody>\n",
       "    <tr>\n",
       "      <th>0</th>\n",
       "      <td>0</td>\n",
       "      <td>2020-02-19 23:59:11</td>\n",
       "      <td>Head nurse Cai Liping of Wuchang Hospital died...</td>\n",
       "    </tr>\n",
       "    <tr>\n",
       "      <th>1</th>\n",
       "      <td>1</td>\n",
       "      <td>2020-02-19 23:59:00</td>\n",
       "      <td>This bacteria-killing UV light robot helps a W...</td>\n",
       "    </tr>\n",
       "    <tr>\n",
       "      <th>2</th>\n",
       "      <td>2</td>\n",
       "      <td>2020-02-19 23:56:52</td>\n",
       "      <td>For those that are into the business side of s...</td>\n",
       "    </tr>\n",
       "    <tr>\n",
       "      <th>3</th>\n",
       "      <td>3</td>\n",
       "      <td>2020-02-19 23:55:34</td>\n",
       "      <td>How to fight against #coronavirus in #japan</td>\n",
       "    </tr>\n",
       "    <tr>\n",
       "      <th>4</th>\n",
       "      <td>4</td>\n",
       "      <td>2020-02-19 23:53:03</td>\n",
       "      <td>Diseases like covid-19 are deadlier in non-dem...</td>\n",
       "    </tr>\n",
       "  </tbody>\n",
       "</table>\n",
       "</div>"
      ],
      "text/plain": [
       "   Unnamed: 0                 date  \\\n",
       "0           0  2020-02-19 23:59:11   \n",
       "1           1  2020-02-19 23:59:00   \n",
       "2           2  2020-02-19 23:56:52   \n",
       "3           3  2020-02-19 23:55:34   \n",
       "4           4  2020-02-19 23:53:03   \n",
       "\n",
       "                                                text  \n",
       "0  Head nurse Cai Liping of Wuchang Hospital died...  \n",
       "1  This bacteria-killing UV light robot helps a W...  \n",
       "2  For those that are into the business side of s...  \n",
       "3        How to fight against #coronavirus in #japan  \n",
       "4  Diseases like covid-19 are deadlier in non-dem...  "
      ]
     },
     "execution_count": 47,
     "metadata": {},
     "output_type": "execute_result"
    }
   ],
   "source": [
    "feb_tweets = pd.read_csv('feb_data.csv')\n",
    "march_tweets = pd.read_csv('march_data.csv')\n",
    "april_tweets = pd.read_csv('april_data.csv')\n",
    "\n",
    "tweets = pd.concat([feb_tweets, march_tweets, april_tweets]).reset_index(drop=True)\n",
    "\n",
    "tweets.head()"
   ]
  },
  {
   "cell_type": "markdown",
   "metadata": {},
   "source": [
    "## LDA Analysis"
   ]
  },
  {
   "cell_type": "code",
   "execution_count": 81,
   "metadata": {},
   "outputs": [],
   "source": [
    "from sklearn.feature_extraction.text import CountVectorizer\n",
    "from sklearn.decomposition import LatentDirichletAllocation\n",
    "from sklearn.feature_extraction import text"
   ]
  },
  {
   "cell_type": "code",
   "execution_count": 82,
   "metadata": {},
   "outputs": [],
   "source": [
    "def print_topics(topics,vectorizer):\n",
    "    \"\"\"\n",
    "    Prints top 12 most important words for each topic in descending importance\n",
    "    \"\"\"\n",
    "    topic_dists = (topics.components_.T / topics.components_.sum(axis=1)).T\n",
    "    for comp in range(len(topic_dists)):\n",
    "        top_i = np.argsort(topic_dists[comp])[-12:][::-1]\n",
    "        print()\n",
    "        print([key for key, value in vectorizer.vocabulary_.items() if value in top_i])"
   ]
  },
  {
   "cell_type": "markdown",
   "metadata": {},
   "source": [
    "### News Source LDA analysis"
   ]
  },
  {
   "cell_type": "code",
   "execution_count": 139,
   "metadata": {},
   "outputs": [],
   "source": [
    "my_stops = text.ENGLISH_STOP_WORDS.union(\n",
    "    \n",
    "    ['covid', 'coronavirus', 'SARS', 'corona', 'sick',\n",
    "    'Covid', 'Corona virus', 'Corona', '19', 'hey', 'sars', 'virus', 'covid_19', \n",
    "    'just', 'day', 'today', 'new', 'got', 'pandemic', 'death', 'crisis', 'covid19', 'china', 'chinese', 'China','Chinese',\n",
    "    '2020', 'like', 'people', 'died', 'spread', 'al', 'jazeera', 'abc','bbc','cnn', 'reporter',\n",
    "    'tonight','patients','confirmed','home','breaking','news']\n",
    "\n",
    ")"
   ]
  },
  {
   "cell_type": "markdown",
   "metadata": {},
   "source": [
    "#### Al Jazeera"
   ]
  },
  {
   "cell_type": "code",
   "execution_count": 146,
   "metadata": {},
   "outputs": [],
   "source": [
    "all_vectorizer = CountVectorizer(min_df=10, stop_words=my_stops)\n",
    "all_counts = all_vectorizer.fit_transform(aljaz.Snippet)\n",
    "all_as_topics = LatentDirichletAllocation(n_components=5, random_state=0, n_jobs=6).fit(all_counts)"
   ]
  },
  {
   "cell_type": "code",
   "execution_count": 147,
   "metadata": {},
   "outputs": [
    {
     "name": "stdout",
     "output_type": "stream",
     "text": [
      "\n",
      "['beijing', '1st', 'outbreak', 'going', 'days', 'hong', 'kong', 'public', 'president', 'live', 'passengers', 'ship']\n",
      "\n",
      "['government', '1st', 'cases', 'health', 'outbreak', 'world', 'emergency', 'president', 'city', 'countries', 'epicenter', 'trump']\n",
      "\n",
      "['government', 'health', 'says', 'outbreak', 'world', 'organization', 'emergency', 'president', 'impact', 'global', 'markets', 'economy']\n",
      "\n",
      "['cases', 'health', 'say', 'outbreak', 'don', 'world', 'know', 'think', 'city', 'really', 've', 'human']\n",
      "\n",
      "['government', 'cases', 'says', 'outbreak', 'number', '00', 'country', 'reported', 'south', 'korea', 'deaths', 'infections']\n"
     ]
    }
   ],
   "source": [
    "print_topics(all_as_topics, all_vectorizer)"
   ]
  },
  {
   "cell_type": "code",
   "execution_count": 149,
   "metadata": {},
   "outputs": [],
   "source": [
    "# Classify news into topics\n",
    "aljaz_dists = all_as_topics.transform(all_counts)\n",
    "aljaz_labels = np.argmax(aljaz_dists, axis=1)\n",
    "aljaz = aljaz.assign(aljaz_labels= aljaz_labels)"
   ]
  },
  {
   "cell_type": "code",
   "execution_count": 154,
   "metadata": {},
   "outputs": [
    {
     "data": {
      "text/html": [
       "<div>\n",
       "<style scoped>\n",
       "    .dataframe tbody tr th:only-of-type {\n",
       "        vertical-align: middle;\n",
       "    }\n",
       "\n",
       "    .dataframe tbody tr th {\n",
       "        vertical-align: top;\n",
       "    }\n",
       "\n",
       "    .dataframe thead th {\n",
       "        text-align: right;\n",
       "    }\n",
       "</style>\n",
       "<table border=\"1\" class=\"dataframe\">\n",
       "  <thead>\n",
       "    <tr style=\"text-align: right;\">\n",
       "      <th>month</th>\n",
       "      <th>January</th>\n",
       "      <th>February</th>\n",
       "      <th>March</th>\n",
       "    </tr>\n",
       "    <tr>\n",
       "      <th>aljaz_labels</th>\n",
       "      <th></th>\n",
       "      <th></th>\n",
       "      <th></th>\n",
       "    </tr>\n",
       "  </thead>\n",
       "  <tbody>\n",
       "    <tr>\n",
       "      <th>0</th>\n",
       "      <td>675</td>\n",
       "      <td>908</td>\n",
       "      <td>810</td>\n",
       "    </tr>\n",
       "    <tr>\n",
       "      <th>1</th>\n",
       "      <td>862</td>\n",
       "      <td>705</td>\n",
       "      <td>607</td>\n",
       "    </tr>\n",
       "    <tr>\n",
       "      <th>2</th>\n",
       "      <td>699</td>\n",
       "      <td>1042</td>\n",
       "      <td>1072</td>\n",
       "    </tr>\n",
       "    <tr>\n",
       "      <th>3</th>\n",
       "      <td>943</td>\n",
       "      <td>880</td>\n",
       "      <td>997</td>\n",
       "    </tr>\n",
       "    <tr>\n",
       "      <th>4</th>\n",
       "      <td>526</td>\n",
       "      <td>1465</td>\n",
       "      <td>1209</td>\n",
       "    </tr>\n",
       "  </tbody>\n",
       "</table>\n",
       "</div>"
      ],
      "text/plain": [
       "month         January  February  March\n",
       "aljaz_labels                          \n",
       "0                 675       908    810\n",
       "1                 862       705    607\n",
       "2                 699      1042   1072\n",
       "3                 943       880    997\n",
       "4                 526      1465   1209"
      ]
     },
     "execution_count": 154,
     "metadata": {},
     "output_type": "execute_result"
    }
   ],
   "source": [
    "# Label tweets by month\n",
    "months = pd.Series([\"January\"] * aljaz_jan.shape[0] + ['February'] * aljaz_feb.shape[0] + ['March'] * aljaz_mar.shape[0])\n",
    "aljaz = aljaz.assign(month=months)\n",
    "\n",
    "# Get news source counts for each topic\n",
    "topic_counts = aljaz.groupby(['aljaz_labels','month']).count()\n",
    "topic_counts.columns =['monthly_count']\n",
    "\n",
    "unstacked_topics = topic_counts.unstack()\n",
    "unstacked_topics = unstacked_topics.monthly_count\n",
    "unstacked_topics = unstacked_topics.reindex(columns=['January', 'February', 'March'])\n",
    "\n",
    "unstacked_topics"
   ]
  },
  {
   "cell_type": "code",
   "execution_count": 155,
   "metadata": {},
   "outputs": [
    {
     "data": {
      "image/png": "[encoded data removed]",
      "text/plain": [
       "<Figure size 1080x720 with 1 Axes>"
      ]
     },
     "metadata": {
      "needs_background": "light"
     },
     "output_type": "display_data"
    }
   ],
   "source": [
    "# Plot monthly counts for each topic\n",
    "unstacked_topics.plot.bar(figsize=(15,10))\n",
    "plt.title('Al Jazeera: Monthly Tweet Counts by Topic')\n",
    "plt.xlabel('Topic')\n",
    "plt.ylabel('Tweet Count')\n",
    "plt.show()"
   ]
  },
  {
   "cell_type": "code",
   "execution_count": null,
   "metadata": {},
   "outputs": [],
   "source": []
  }
 ],
 "metadata": {
  "kernelspec": {
   "display_name": "Python 3",
   "language": "python",
   "name": "python3"
  },
  "language_info": {
   "codemirror_mode": {
    "name": "ipython",
    "version": 3
   },
   "file_extension": ".py",
   "mimetype": "text/x-python",
   "name": "python",
   "nbconvert_exporter": "python",
   "pygments_lexer": "ipython3",
   "version": "3.7.6"
  }
 },
 "nbformat": 4,
 "nbformat_minor": 2
}
